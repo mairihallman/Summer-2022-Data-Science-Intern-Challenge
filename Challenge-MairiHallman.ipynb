{
 "cells": [
  {
   "cell_type": "markdown",
   "id": "184b77bc-8522-4ca6-833b-63f88fcd9b47",
   "metadata": {
    "tags": []
   },
   "source": [
    "##### Mairi Hallman\n",
    "# Summer 2022 Data Science Intern Challenge"
   ]
  },
  {
   "cell_type": "markdown",
   "id": "c827505c-42e2-4b89-ae18-6058eab1213f",
   "metadata": {},
   "source": [
    "### Question 1"
   ]
  },
  {
   "cell_type": "markdown",
   "id": "d6f2888b-d8d0-4052-87af-4a32315bb70f",
   "metadata": {},
   "source": [
    "##### Part A\n",
    "17 orders of 2000 pairs of sneakers are drastically affecting the average order value, as the remaining 4982 orders are for 6 pairs or less."
   ]
  },
  {
   "cell_type": "markdown",
   "id": "30f28e71-3d70-4ea1-a092-18575197f9d1",
   "metadata": {},
   "source": [
    "##### Part B\n",
    "The appropriate metric to report is the median order value."
   ]
  },
  {
   "cell_type": "markdown",
   "id": "5ff60195-ecb5-4d4a-8668-5a6e48631746",
   "metadata": {},
   "source": [
    "##### Part C"
   ]
  },
  {
   "cell_type": "code",
   "execution_count": 1,
   "id": "218b41f6-c6b9-4e1f-bc22-c1071ba8ae22",
   "metadata": {},
   "outputs": [
    {
     "name": "stdout",
     "output_type": "stream",
     "text": [
      "The median order value is: 284.0\n"
     ]
    }
   ],
   "source": [
    "from openpyxl import load_workbook\n",
    "from statistics import median\n",
    "\n",
    "wb = load_workbook(filename='2019_Winter_Data_Science_Intern_Challenge_Data_Set.xlsx')\n",
    "ws = wb[wb.sheetnames[0]]\n",
    "l = []\n",
    "for i in range(2,5002):\n",
    "     for j in range(4,5):\n",
    "        v = ws.cell(row=i,column=j)\n",
    "        l.append(v.value)\n",
    "print(f\"The median order value is: {median(l)}\")"
   ]
  },
  {
   "cell_type": "markdown",
   "id": "be3fe106-573b-48e9-92c0-49a69152d002",
   "metadata": {},
   "source": [
    "### Question 2"
   ]
  },
  {
   "cell_type": "markdown",
   "id": "621d0798-c509-46b1-8e86-cc3a20245825",
   "metadata": {
    "tags": []
   },
   "source": [
    "##### Part A\n",
    "Query: <code>SELECT * FROM [Orders] WHERE ShipperID = 1</code><br>\n",
    "Answer: Speedy Express shipped 54 orders."
   ]
  },
  {
   "cell_type": "markdown",
   "id": "b5a75c9e-3c4a-4b08-a8fa-2ad18bd26596",
   "metadata": {},
   "source": [
    "##### Part B\n",
    "Query 1: <code>SELECT EmployeeID, COUNT(*) FROM [ORDERS] GROUP BY EMPLOYEEID</code><br>\n",
    "Query 2: <code> SELECT LastName FROM [Employees] WHERE EmployeeID = 4</code><br>\n",
    "Answer: The last name of the employee with the most orders is Peacock."
   ]
  },
  {
   "cell_type": "markdown",
   "id": "b8be6f59-aa0e-4e67-b88c-32af1d79ec86",
   "metadata": {},
   "source": [
    "##### Part C\n",
    "Query 1: <br>\n",
    "Query 2: <code>SELECT OrderID FROM [ORDERS] WHERE CustomerID in (1,6,17,25,39,44,52,56,63,79,86)</code><br>\n",
    "Query 3: <code>SELECT ProductID, COUNT(*) FROM [OrderDetails] WHERE OrderID in (10267, 10273, 10277, 10279, 10284, 10285, 10286, 10301, 10312, 10313, 10323, 10325, 10337, 10342, 10343, 10345, 10348, 10356, 10361, 10363, 10391, 10396, 10407, 10418, 10438) GROUP BY ProductID ORDER BY COUNT(*) DESC</code><br>\n",
    "Query 4: <code>SELECT * FROM [Products] WHERE ProductID = 31</code><br>\n",
    "Answer: The product order most by customers in Germany was Gorgonzola Telino."
   ]
  }
 ],
 "metadata": {
  "kernelspec": {
   "display_name": "Python 3 (ipykernel)",
   "language": "python",
   "name": "python3"
  },
  "language_info": {
   "codemirror_mode": {
    "name": "ipython",
    "version": 3
   },
   "file_extension": ".py",
   "mimetype": "text/x-python",
   "name": "python",
   "nbconvert_exporter": "python",
   "pygments_lexer": "ipython3",
   "version": "3.10.2"
  }
 },
 "nbformat": 4,
 "nbformat_minor": 5
}
